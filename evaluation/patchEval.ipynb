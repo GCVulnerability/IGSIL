{
 "cells": [
  {
   "cell_type": "code",
   "id": "initial_id",
   "metadata": {
    "collapsed": true,
    "ExecuteTime": {
     "end_time": "2025-03-20T05:24:01.942406Z",
     "start_time": "2025-03-20T05:24:01.928411Z"
    }
   },
   "source": [
    "import json\n",
    "import re\n",
    "from tqdm import tqdm\n",
    "from afl.util.utils import load_json\n",
    "from afl.util.preprocess_data import extract_structure\n",
    "\n",
    "def load_jsonl(file_path):\n",
    "    with open(file_path, 'r') as file:\n",
    "        data = [json.loads(line) for line in file]\n",
    "    return data\n",
    "\n",
    "def extract_file(diff_text):\n",
    "    file_pattern = r\"^diff --git a\\/(.+?) b\\/\\1\"\n",
    "    files = re.findall(file_pattern, diff_text, re.MULTILINE)\n",
    "    return files\n",
    "\n",
    "def extract_line(diff_text):\n",
    "    lines_pattern = r\"@@ -(\\d+),(\\d+) \\+(\\d+),(\\d+)\"\n",
    "    line_changes = re.findall(lines_pattern, diff_text)\n",
    "    lines = [int(int(l[0]) + int(l[1])/2) for l in line_changes]\n",
    "    return lines\n",
    "\n",
    "def parse_gt_methods(gt_entries):\n",
    "    \"\"\"\n",
    "    解析ground truth中的条目，并统一处理为文件级别和函数级别的定位。\n",
    "    \"\"\"\n",
    "    files, methods = set(), set()\n",
    "\n",
    "    for entry in gt_entries:\n",
    "        parts = entry.split('::')\n",
    "\n",
    "        if len(parts) == 2:  # File::Method 或 File::Class\n",
    "            file_name, method_or_class = parts\n",
    "            files.add(file_name)\n",
    "            methods.add(method_or_class)\n",
    "\n",
    "        elif len(parts) == 1:  # File\n",
    "            files.add(parts[0])\n",
    "\n",
    "    return files, methods\n",
    "\n",
    "\n",
    "def get_function_from_line(file_name: str, line: int, instance_id: str):\n",
    "    line = int(line)\n",
    "    d = REPO_STRUCTURE[instance_id]\n",
    "    structure = d[\"structure\"]\n",
    "    files, classes, functions = extract_structure(structure)\n",
    "\n",
    "    for item in functions:\n",
    "        if item['file'] == file_name and int(item['start_line']) <= line <= int(item['end_line']):\n",
    "            return item['name']\n",
    "\n",
    "    for item in classes:\n",
    "        if item['file'] == file_name and int(item['start_line']) <= line <= int(item['end_line']):\n",
    "            for method in item['methods']:\n",
    "                if int(method['start_line']) <= line <= int(method['end_line']):\n",
    "                    return f\"{item['name']}.{method['name']}\"\n",
    "            return item['name']\n",
    "\n",
    "    return None\n",
    "\n",
    "def eval_acc(patches, gt):\n",
    "    acc_f = 0\n",
    "    acc_func = 0\n",
    "\n",
    "    for patch in tqdm(patches, desc=\"Evaluating patches\"):\n",
    "        if patch['model_patch']==\"\":\n",
    "            continue\n",
    "        instance_id = patch['instance_id']\n",
    "        try:\n",
    "            file_name = extract_file(patch['model_patch'])[0]\n",
    "            line_list = extract_line(patch['model_patch'])\n",
    "        except:\n",
    "            continue\n",
    "        function_list = []\n",
    "        for line in line_list:\n",
    "            function = get_function_from_line(file_name, line, instance_id)\n",
    "            function_list.append(f\"{file_name}::{function}\")\n",
    "        gt_methods = gt[instance_id]\n",
    "        gt_file = set([x.split(\"::\")[0] for x in gt_methods])\n",
    "        if set(function_list) & set(gt_methods) != set():\n",
    "            acc_func += 1\n",
    "        if {file_name} & set(gt_file) != set():\n",
    "            acc_f += 1\n",
    "\n",
    "    return acc_f/300, acc_func / 300"
   ],
   "outputs": [],
   "execution_count": 28
  },
  {
   "metadata": {
    "ExecuteTime": {
     "end_time": "2025-03-19T13:54:13.409516Z",
     "start_time": "2025-03-19T13:51:39.573413Z"
    }
   },
   "cell_type": "code",
   "source": [
    "gt_data = load_json('gt.json')\n",
    "REPO_STRUCTURE = {instance_id: load_json(f\"../repo_structures/{instance_id}.json\") for instance_id in\n",
    "                  tqdm(gt_data.keys())}"
   ],
   "id": "e99abf53f420b291",
   "outputs": [
    {
     "name": "stderr",
     "output_type": "stream",
     "text": [
      "100%|██████████| 300/300 [02:33<00:00,  1.95it/s]\n"
     ]
    }
   ],
   "execution_count": 7
  },
  {
   "metadata": {
    "ExecuteTime": {
     "end_time": "2025-03-20T05:28:09.595654Z",
     "start_time": "2025-03-20T05:24:04.151933Z"
    }
   },
   "cell_type": "code",
   "source": [
    "path_list = [\n",
    "    \"../test_patches/agentless_1.5.jsonl\",\n",
    "    \"../test_patches/autocoderover.jsonl\",\n",
    "    \"../test_patches/sweagent.jsonl\",\n",
    "    \"../test_patches/moatless.jsonl\",\n",
    "    \"../test_patches/infant.jsonl\",\n",
    "    \"../test_patches/repograph.jsonl\",\n",
    "    \"../all_preds_afl_gpt.jsonl\",\n",
    "    \"../all_preds_agentless_gpt.jsonl\",\n",
    "    \"../all_preds_orcaloca_gpt.jsonl\",\n",
    "]\n",
    "for p in path_list:\n",
    "    patches = load_jsonl(p)\n",
    "    file_match, function_match = eval_acc(patches, gt_data)\n",
    "    print(p, file_match, function_match)"
   ],
   "id": "1f91a74f08e77367",
   "outputs": [
    {
     "name": "stderr",
     "output_type": "stream",
     "text": [
      "Evaluating patches: 100%|██████████| 300/300 [00:16<00:00, 18.31it/s] \n"
     ]
    },
    {
     "name": "stdout",
     "output_type": "stream",
     "text": [
      "../test_patches/agentless_1.5.jsonl 0.6966666666666667 0.49333333333333335\n"
     ]
    },
    {
     "name": "stderr",
     "output_type": "stream",
     "text": [
      "Evaluating patches: 100%|██████████| 296/296 [00:28<00:00, 10.54it/s]\n"
     ]
    },
    {
     "name": "stdout",
     "output_type": "stream",
     "text": [
      "../test_patches/autocoderover.jsonl 0.6666666666666666 0.4633333333333333\n"
     ]
    },
    {
     "name": "stderr",
     "output_type": "stream",
     "text": [
      "Evaluating patches: 100%|██████████| 278/278 [00:55<00:00,  5.02it/s]\n"
     ]
    },
    {
     "name": "stdout",
     "output_type": "stream",
     "text": [
      "../test_patches/sweagent.jsonl 0.45 0.3233333333333333\n"
     ]
    },
    {
     "name": "stderr",
     "output_type": "stream",
     "text": [
      "Evaluating patches: 100%|██████████| 300/300 [00:17<00:00, 16.91it/s]\n"
     ]
    },
    {
     "name": "stdout",
     "output_type": "stream",
     "text": [
      "../test_patches/moatless.jsonl 0.69 0.46\n"
     ]
    },
    {
     "name": "stderr",
     "output_type": "stream",
     "text": [
      "Evaluating patches: 100%|██████████| 299/299 [00:43<00:00,  6.87it/s]\n"
     ]
    },
    {
     "name": "stdout",
     "output_type": "stream",
     "text": [
      "../test_patches/infant.jsonl 0.7366666666666667 0.52\n"
     ]
    },
    {
     "name": "stderr",
     "output_type": "stream",
     "text": [
      "Evaluating patches: 100%|██████████| 300/300 [00:27<00:00, 10.87it/s]\n"
     ]
    },
    {
     "name": "stdout",
     "output_type": "stream",
     "text": [
      "../test_patches/repograph.jsonl 0.71 0.47\n"
     ]
    },
    {
     "name": "stderr",
     "output_type": "stream",
     "text": [
      "Evaluating patches: 100%|██████████| 300/300 [00:15<00:00, 18.77it/s] \n"
     ]
    },
    {
     "name": "stdout",
     "output_type": "stream",
     "text": [
      "../all_preds_afl_gpt.jsonl 0.6733333333333333 0.4666666666666667\n"
     ]
    },
    {
     "name": "stderr",
     "output_type": "stream",
     "text": [
      "Evaluating patches: 100%|██████████| 295/295 [00:26<00:00, 11.23it/s] \n"
     ]
    },
    {
     "name": "stdout",
     "output_type": "stream",
     "text": [
      "../all_preds_agentless_gpt.jsonl 0.6133333333333333 0.4266666666666667\n"
     ]
    },
    {
     "name": "stderr",
     "output_type": "stream",
     "text": [
      "Evaluating patches: 100%|██████████| 262/262 [00:14<00:00, 18.13it/s]"
     ]
    },
    {
     "name": "stdout",
     "output_type": "stream",
     "text": [
      "../all_preds_orcaloca_gpt.jsonl 0.5733333333333334 0.38333333333333336\n"
     ]
    },
    {
     "name": "stderr",
     "output_type": "stream",
     "text": [
      "\n"
     ]
    }
   ],
   "execution_count": 29
  },
  {
   "metadata": {
    "ExecuteTime": {
     "end_time": "2025-03-20T05:59:49.182445Z",
     "start_time": "2025-03-20T05:59:02.812123Z"
    }
   },
   "cell_type": "code",
   "source": [
    "path_list = [\n",
    "    \"../a.jsonl\",\n",
    "    \"../test_patches/opencsg.jsonl\",\n",
    "    # \"../claude.jsonl\",\n",
    "    # \"../test_patches/agentless_claude.jsonl\",\n",
    "    # \"../test_patches/orcaloca_claude.jsonl\",\n",
    "]\n",
    "\n",
    "for p in path_list:\n",
    "    patches = load_jsonl(p)\n",
    "    file_match, function_match = eval_acc(patches, gt_data)\n",
    "    print(p, file_match, function_match)"
   ],
   "id": "799102c05034f9c2",
   "outputs": [
    {
     "name": "stderr",
     "output_type": "stream",
     "text": [
      "Evaluating patches: 100%|██████████| 300/300 [00:18<00:00, 16.19it/s] \n"
     ]
    },
    {
     "name": "stdout",
     "output_type": "stream",
     "text": [
      "../a.jsonl 0.7066666666666667 0.49666666666666665\n"
     ]
    },
    {
     "name": "stderr",
     "output_type": "stream",
     "text": [
      "Evaluating patches: 100%|██████████| 292/292 [00:27<00:00, 10.49it/s]"
     ]
    },
    {
     "name": "stdout",
     "output_type": "stream",
     "text": [
      "../test_patches/opencsg.jsonl 0.72 0.5033333333333333\n"
     ]
    },
    {
     "name": "stderr",
     "output_type": "stream",
     "text": [
      "\n"
     ]
    }
   ],
   "execution_count": 32
  }
 ],
 "metadata": {
  "kernelspec": {
   "display_name": "Python 3",
   "language": "python",
   "name": "python3"
  },
  "language_info": {
   "codemirror_mode": {
    "name": "ipython",
    "version": 2
   },
   "file_extension": ".py",
   "mimetype": "text/x-python",
   "name": "python",
   "nbconvert_exporter": "python",
   "pygments_lexer": "ipython2",
   "version": "2.7.6"
  }
 },
 "nbformat": 4,
 "nbformat_minor": 5
}
